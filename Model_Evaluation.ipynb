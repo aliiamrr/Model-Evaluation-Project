{
  "nbformat": 4,
  "nbformat_minor": 0,
  "metadata": {
    "colab": {
      "provenance": [],
      "authorship_tag": "ABX9TyNmxSspNLT2OWiWLcYmaAL8",
      "include_colab_link": true
    },
    "kernelspec": {
      "name": "python3",
      "display_name": "Python 3"
    },
    "language_info": {
      "name": "python"
    }
  },
  "cells": [
    {
      "cell_type": "markdown",
      "metadata": {
        "id": "view-in-github",
        "colab_type": "text"
      },
      "source": [
        "<a href=\"https://colab.research.google.com/github/aliiamrr/Model-Evaluation-Project/blob/main/Model_Evaluation.ipynb\" target=\"_parent\"><img src=\"https://colab.research.google.com/assets/colab-badge.svg\" alt=\"Open In Colab\"/></a>"
      ]
    },
    {
      "cell_type": "code",
      "execution_count": null,
      "metadata": {
        "id": "GllSjq4dQdJy"
      },
      "outputs": [],
      "source": [
        "! pip install --upgrade category_encoders"
      ]
    },
    {
      "cell_type": "code",
      "source": [
        "#IMPORTS\n",
        "\n",
        "import pandas as pd\n",
        "import numpy as np\n",
        "from sklearn.model_selection import train_test_split\n",
        "from sklearn.preprocessing import StandardScaler, LabelEncoder\n",
        "from sklearn.neighbors import KNeighborsClassifier, KNeighborsRegressor\n",
        "from sklearn.naive_bayes import GaussianNB\n",
        "from sklearn.tree import DecisionTreeClassifier\n",
        "from sklearn.metrics import accuracy_score, confusion_matrix, recall_score, precision_score, mean_squared_error\n",
        "\n"
      ],
      "metadata": {
        "id": "1-ADW8IeQvGE"
      },
      "execution_count": null,
      "outputs": []
    },
    {
      "cell_type": "code",
      "source": [
        "#READING THE DATA FRAME\n",
        "df = pd.read_csv(\"/content/CarPrice_Assignment.csv\")"
      ],
      "metadata": {
        "id": "DDKI-1c-Q8O8"
      },
      "execution_count": null,
      "outputs": []
    },
    {
      "cell_type": "code",
      "source": [
        "#NOMINAL:\n",
        "nominal_columns = ['CarName', 'fueltype', 'aspiration', 'doornumber', 'carbody', 'drivewheel', 'enginelocation', 'enginetype', 'cylindernumber', 'fuelsystem']\n",
        "\n",
        "#PERFORMING ONE HOT ENCODING FOR THE NOMINAL COLUMNS\n",
        "\n",
        "one_hot_df = pd.get_dummies(df[nominal_columns], prefix=nominal_columns)\n",
        "one_hot_df.head()\n",
        "\n",
        "#REPLACING THE ENCODED COLUMNS WITH THE OLD ONES\n",
        "discretized_df = df.drop(nominal_columns, axis=1)\n",
        "discretized_df = pd.concat([discretized_df,one_hot_df],axis =1)\n",
        "\n"
      ],
      "metadata": {
        "id": "o9HGJlf5eF0I"
      },
      "execution_count": null,
      "outputs": []
    },
    {
      "cell_type": "code",
      "source": [
        "#CATEGORIZING THE PRICE COLUMN\n",
        "\n",
        "\n",
        "bins = [0, 10000, 20000, 30000, 40000, np.inf]\n",
        "labels = ['Very Low', 'Low', 'Medium', 'High', 'Very High']\n",
        "\n",
        "price_bins = pd.cut(df['price'], bins=bins, labels=labels)\n",
        "discretized_df['price'] = price_bins\n"
      ],
      "metadata": {
        "id": "dOORuiOrRZck"
      },
      "execution_count": null,
      "outputs": []
    },
    {
      "cell_type": "code",
      "source": [
        "#SPLITTING INTO X AND Y VARIABLES\n",
        "y=discretized_df[\"price\"]\n",
        "X=discretized_df.drop(\"price\", axis=1)\n",
        "\n",
        "#TRAIN TEST SPLIT\n",
        "X_train, X_test, y_train, y_test = train_test_split(X, y, test_size=0.2, random_state=42)\n"
      ],
      "metadata": {
        "id": "gY9S6F1GfB-v"
      },
      "execution_count": null,
      "outputs": []
    },
    {
      "cell_type": "code",
      "source": [
        "#NAIVE BAYES"
      ],
      "metadata": {
        "id": "b8wZ7QgdXp8i"
      },
      "execution_count": null,
      "outputs": []
    },
    {
      "cell_type": "code",
      "source": [
        "#------------------------------------------------------------------------------------------------------------------------------------------------------------------------"
      ],
      "metadata": {
        "id": "B-vDYy7EXzI6"
      },
      "execution_count": null,
      "outputs": []
    },
    {
      "cell_type": "code",
      "source": [
        "#INSTANTIATING THE MODEL\n",
        "model = GaussianNB()\n",
        "\n",
        "#TRAINING MODEL\n",
        "model.fit(X_train, y_train)\n",
        "\n",
        "#MAKING PREDICTIONS\n",
        "y_pred = model.predict(X_test)\n",
        "\n",
        "3\n",
        "#CALCULATING THE ACCURACY/CONFUSION MATRIX/RECALL AND PRECISION\n",
        "accuracy_nb = accuracy_score(y_test, y_pred)\n",
        "confusion_mat_nb = confusion_matrix(y_test, y_pred)\n",
        "recall_nb = recall_score(y_test, y_pred, average='weighted')\n",
        "precision_nb= precision_score(y_test, y_pred, average='weighted')\n"
      ],
      "metadata": {
        "id": "JtClvO3oqvYU",
        "collapsed": true
      },
      "execution_count": null,
      "outputs": []
    },
    {
      "cell_type": "code",
      "source": [
        "#NAIVE BAYES PRINT\n",
        "\n",
        "print(\"NAIVE BAYES RESULTS: \")\n",
        "print(\"Accuracy of the decision naive bayes is : \",accuracy_nb)\n",
        "print(\"confusion matrix of the naive bayes is : \",confusion_mat_nb)\n",
        "print(\"Recall of the  naive bayes is : \",recall_nb)\n",
        "print(\"Precision of the  naive bayes is : \",precision_nb)\n",
        "print(\"----------------------------------------------------------------------------------------------------------------------------------------------------------------------\")\n"
      ],
      "metadata": {
        "id": "xGSYvZ6tvDIK",
        "colab": {
          "base_uri": "https://localhost:8080/"
        },
        "outputId": "252f4199-054b-4de1-9523-30c606288200"
      },
      "execution_count": null,
      "outputs": [
        {
          "output_type": "stream",
          "name": "stdout",
          "text": [
            "NAIVE BAYES RESULTS: \n",
            "Accuracy of the decision naive bayes is :  0.6341463414634146\n",
            "confusion matrix of the naive bayes is :  [[ 0  0  1  0  0]\n",
            " [ 0  7  1  0  4]\n",
            " [ 1  2  1  0  0]\n",
            " [ 1  0  1  0  0]\n",
            " [ 0  3  1  0 18]]\n",
            "Recall of the  naive bayes is :  0.6341463414634146\n",
            "Precision of the  naive bayes is :  0.6292682926829268\n",
            "----------------------------------------------------------------------------------------------------------------------------------------------------------------------\n"
          ]
        }
      ]
    },
    {
      "cell_type": "code",
      "source": [
        "#------------------------------------------------------------------------------------------------------------------------------------------------------------------------"
      ],
      "metadata": {
        "id": "xI9rTVHwX0Uu"
      },
      "execution_count": null,
      "outputs": []
    },
    {
      "cell_type": "code",
      "source": [
        "#DECSISION TREE"
      ],
      "metadata": {
        "id": "e2w99dyjVYXg"
      },
      "execution_count": null,
      "outputs": []
    },
    {
      "cell_type": "code",
      "source": [
        "#------------------------------------------------------------------------------------------------------------------------------------------------------------------------"
      ],
      "metadata": {
        "id": "euAoHyk5Vepo"
      },
      "execution_count": null,
      "outputs": []
    },
    {
      "cell_type": "code",
      "source": [
        "#INSTANTIATING THE MODEL\n",
        "decision_tree = DecisionTreeClassifier()\n",
        "\n",
        "#TRAINING MODEL\n",
        "decision_tree.fit(X_train, y_train)\n",
        "\n",
        "#MAKING PREDICTIONS\n",
        "prediction = decision_tree.predict(X_test)\n",
        "\n",
        "#CALCULATING THE ACCURACY/CONFUSION MATRIX/RECALL AND PRECISION\n",
        "accuracy_dt = accuracy_score(y_test, prediction)\n",
        "conf_matrix_dt = confusion_matrix(y_test, prediction)\n",
        "recall_dt = recall_score(y_test, prediction, average='weighted')\n",
        "precision_dt = precision_score(y_test,prediction, average='weighted')\n"
      ],
      "metadata": {
        "id": "voE0c74FVk7J"
      },
      "execution_count": null,
      "outputs": []
    },
    {
      "cell_type": "code",
      "source": [
        "#DECSISION TREE PRINT\n",
        "\n",
        "print(\"DECISION TREE RESULTS: \")\n",
        "print(\"Accuracy of the decision tree model is : \",accuracy_dt)\n",
        "print(\"confusion matrix of the  decision tree model is : \",conf_matrix_dt)\n",
        "print(\"Recall of the decision tree model is : \",recall_dt)\n",
        "print(\"Precision of the decision tree model is : \",precision_dt)\n",
        "print(\"----------------------------------------------------------------------------------------------------------------------------------------------------------------------\")\n",
        "\n"
      ],
      "metadata": {
        "id": "T6v5fOq7vXpv",
        "colab": {
          "base_uri": "https://localhost:8080/"
        },
        "outputId": "844a18d2-d2c5-472a-f481-7e8b7293c0ff"
      },
      "execution_count": null,
      "outputs": [
        {
          "output_type": "stream",
          "name": "stdout",
          "text": [
            "DECISION TREE RESULTS: \n",
            "Accuracy of the decision tree model is :  0.8292682926829268\n",
            "confusion matrix of the  decision tree model is :  [[ 1  0  0  0  0]\n",
            " [ 0 12  0  0  0]\n",
            " [ 3  1  0  0  0]\n",
            " [ 1  0  0  1  0]\n",
            " [ 0  2  0  0 20]]\n",
            "Recall of the decision tree model is :  0.8292682926829268\n",
            "Precision of the decision tree model is :  0.824390243902439\n",
            "----------------------------------------------------------------------------------------------------------------------------------------------------------------------\n"
          ]
        }
      ]
    },
    {
      "cell_type": "code",
      "source": [
        "#------------------------------------------------------------------------------------------------------------------------------------------------------------------------"
      ],
      "metadata": {
        "id": "8ynJLVf9Vhfh"
      },
      "execution_count": null,
      "outputs": []
    },
    {
      "cell_type": "code",
      "source": [
        "#KNN:\n",
        "#------------------------------------------------------------------------------------------------------------------------------------------------------------------------"
      ],
      "metadata": {
        "id": "Velwjb4JSsSy"
      },
      "execution_count": null,
      "outputs": []
    },
    {
      "cell_type": "code",
      "source": [
        "# KNN Classfier\n",
        "\n",
        "#INSTANTIATING THE KNN MODEL WITH 3 N NEIGHNOURS\n",
        "knn_classifier = KNeighborsClassifier(n_neighbors=3)\n",
        "\n",
        "#TRAINING MODEL\n",
        "knn_classifier.fit(X_train, y_train)\n",
        "\n",
        "#MAKING PREDICTIONS\n",
        "y_pred_knn_classifier = knn_classifier.predict(X_test)\n",
        "\n",
        "#CALCULATING THE ACCURACY/CONFUSION MATRIX/RECALL AND PRECISION\n",
        "accuracy_knn_classifier = accuracy_score(y_test, y_pred_knn_classifier)\n",
        "conf_matrix_knn_classifier = confusion_matrix(y_test, y_pred_knn_classifier)\n",
        "recall_knn_classifier = recall_score(y_test, y_pred_knn_classifier, average='weighted')\n",
        "precision_knn_classifier = precision_score(y_test, y_pred_knn_classifier, average='weighted')\n"
      ],
      "metadata": {
        "id": "lCoO8Xt8Rqb0"
      },
      "execution_count": null,
      "outputs": []
    },
    {
      "cell_type": "code",
      "source": [
        "# KNN Regressor\n",
        "\n",
        "#REDIFING THE Y TO MAKE IT CONTINOUS\n",
        "#Y USES OLD DATA FRAME WHICH CONTAINS THE Y CONTINOUS VALUES(ASSUMING THAT THE REQUIRED OUTPUT NEEDS THE CONTINOUS PRICE AS THE TARGET VARIABLE)\n",
        "\n",
        "y=df[\"price\"]\n",
        "\n",
        "X=discretized_df.drop(\"price\", axis=1)\n",
        "\n",
        "\n",
        "X_train, X_test, y_train, y_test = train_test_split(X, y, test_size=0.2, random_state=42)\n",
        "\n",
        "#INSTANTIATING REGRESSOR\n",
        "knn_regressor = KNeighborsRegressor(n_neighbors=3)\n",
        "\n",
        "#TRAINING MODEL\n",
        "knn_regressor.fit(X_train, y_train)\n",
        "\n",
        "#MAKING PREDICTIONS\n",
        "knn_regressor_pred = knn_regressor.predict(X_test)\n",
        "\n",
        "#CALCULATING MEAN SQUARED ERROR\n",
        "mse_knn_regressor = mean_squared_error(y_test,knn_regressor_pred )\n",
        "\n"
      ],
      "metadata": {
        "id": "5vIJT40jSUCI"
      },
      "execution_count": null,
      "outputs": []
    },
    {
      "cell_type": "code",
      "source": [
        "#KNN RESULTS\n",
        "print(\"KNN REULTS : \")\n",
        "\n",
        "print(\"\\nCLASSIFIER: \")\n",
        "\n",
        "# Results For Classifier\n",
        "print(\"K-Nearest Neighbors (Classifier) - Accuracy:\", accuracy_knn_classifier)\n",
        "print(\"K-Nearest Neighbors (Classifier) - Confusion Matrix:\\n\", conf_matrix_knn_classifier)\n",
        "print(\"K-Nearest Neighbors (Classifier) - Recall:\", recall_knn_classifier)\n",
        "print(\"K-Nearest Neighbors (Classifier) - Precision:\", precision_knn_classifier)\n",
        "\n",
        "print(\"\\nREGRESSOR: \")\n",
        "\n",
        "\n",
        "# Results for Regressor\n",
        "print(\"\\nK-Nearest Neighbors (Regressor) - Mean Squared Error:\", mse_knn_regressor)\n"
      ],
      "metadata": {
        "id": "SF_MLQ7sSkxt",
        "colab": {
          "base_uri": "https://localhost:8080/"
        },
        "outputId": "6b352d39-b495-44c3-b65f-d64dc7ff3f2f"
      },
      "execution_count": null,
      "outputs": [
        {
          "output_type": "stream",
          "name": "stdout",
          "text": [
            "KNN REULTS : \n",
            "\n",
            "CLASSIFIER: \n",
            "K-Nearest Neighbors (Classifier) - Accuracy: 0.7317073170731707\n",
            "K-Nearest Neighbors (Classifier) - Confusion Matrix:\n",
            " [[ 0  1  0  0  0]\n",
            " [ 0 10  0  0  2]\n",
            " [ 1  3  0  0  0]\n",
            " [ 2  0  0  0  0]\n",
            " [ 0  2  0  0 20]]\n",
            "K-Nearest Neighbors (Classifier) - Recall: 0.7317073170731707\n",
            "K-Nearest Neighbors (Classifier) - Precision: 0.6707317073170732\n",
            "\n",
            "REGRESSOR: \n",
            "\n",
            "K-Nearest Neighbors (Regressor) - Mean Squared Error: 15649836.334728999\n"
          ]
        }
      ]
    },
    {
      "cell_type": "code",
      "source": [
        "#------------------------------------------------------------------------------------------------------------------------------------------------------------------------"
      ],
      "metadata": {
        "id": "sg1knRzRSzCV"
      },
      "execution_count": null,
      "outputs": []
    },
    {
      "cell_type": "code",
      "source": [
        "#EVALUATING THE MODELS\n",
        "\n",
        "#MAX ACCURACY\n",
        "acc = {'KNN': accuracy_knn_classifier,'Naive Bayes':accuracy_nb,'Desicion Tree':accuracy_dt }\n",
        "maxAcc = max(acc,key=acc.get)\n",
        "print(\"The Model with the maximum accuracy is : \",maxAcc)\n",
        "\n",
        "#MAX RECALL\n",
        "recall= {'KNN': recall_knn_classifier,'Naive Bayes':recall_nb,'Desicion Tree':recall_dt }\n",
        "maxRecall = max(recall,key=recall.get)\n",
        "print(\"The Model with the maximum recall is : \",maxRecall)\n",
        "\n",
        "#MAX PRECISION\n",
        "precision = {'KNN': precision_knn_classifier,'Naive Bayes':precision_nb,'Desicion Tree':precision_dt }\n",
        "maxPrecision =max(precision,key =precision.get)\n",
        "print(\"The Model with the maximum precision is : \",maxPrecision)\n",
        "\n",
        "#BASED ON THE RESULTS DECISION TREE HAS MAX ACCURACY/RECALL/PRECISION\n",
        "#DESICION TREE ALSO HAS THE BEST CONFUSION MATRIX SINCE THERE ARE MORE CORRECTLY PREDICTED VALUES(MORE RESULT IN MAIN DIAGONAL IN EACH ROW)\n",
        "\n"
      ],
      "metadata": {
        "id": "f0R2vtCt0GQM",
        "colab": {
          "base_uri": "https://localhost:8080/"
        },
        "outputId": "9a407e15-308e-45ba-8e21-834e3d41685b"
      },
      "execution_count": null,
      "outputs": [
        {
          "output_type": "stream",
          "name": "stdout",
          "text": [
            "The Model with the maximum accuracy is :  Desicion Tree\n",
            "The Model with the maximum recall is :  Desicion Tree\n",
            "The Model with the maximum precision is :  Desicion Tree\n"
          ]
        }
      ]
    }
  ]
}